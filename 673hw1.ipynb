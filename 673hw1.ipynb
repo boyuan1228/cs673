{
  "nbformat": 4,
  "nbformat_minor": 0,
  "metadata": {
    "colab": {
      "provenance": [],
      "authorship_tag": "ABX9TyMbw5fyNM5MSNjWJbUZQJ80",
      "include_colab_link": true
    },
    "kernelspec": {
      "name": "python3",
      "display_name": "Python 3"
    },
    "language_info": {
      "name": "python"
    }
  },
  "cells": [
    {
      "cell_type": "markdown",
      "metadata": {
        "id": "view-in-github",
        "colab_type": "text"
      },
      "source": [
        "<a href=\"https://colab.research.google.com/github/boyuan1228/cs673/blob/main/673hw1.ipynb\" target=\"_parent\"><img src=\"https://colab.research.google.com/assets/colab-badge.svg\" alt=\"Open In Colab\"/></a>"
      ]
    },
    {
      "cell_type": "markdown",
      "source": [],
      "metadata": {
        "id": "sHH0ChPVNymU"
      }
    },
    {
      "cell_type": "markdown",
      "source": [
        "table for numbers up to 12"
      ],
      "metadata": {
        "id": "YDHSGTD3ai3L"
      }
    },
    {
      "cell_type": "code",
      "execution_count": 2,
      "metadata": {
        "colab": {
          "base_uri": "https://localhost:8080/"
        },
        "id": "ImajjwsHaS9n",
        "outputId": "ea8e92d6-2dc0-410e-a98f-e118a188c3fd"
      },
      "outputs": [
        {
          "output_type": "stream",
          "name": "stdout",
          "text": [
            "1*1 = 1  1*2 = 2  1*3 = 3  1*4 = 4  1*5 = 5  1*6 = 6  1*7 = 7  1*8 = 8  1*9 = 9  1*10 = 10  1*11 = 11  1*12 = 12  \n",
            "2*1 = 2  2*2 = 4  2*3 = 6  2*4 = 8  2*5 = 10  2*6 = 12  2*7 = 14  2*8 = 16  2*9 = 18  2*10 = 20  2*11 = 22  2*12 = 24  \n",
            "3*1 = 3  3*2 = 6  3*3 = 9  3*4 = 12  3*5 = 15  3*6 = 18  3*7 = 21  3*8 = 24  3*9 = 27  3*10 = 30  3*11 = 33  3*12 = 36  \n",
            "4*1 = 4  4*2 = 8  4*3 = 12  4*4 = 16  4*5 = 20  4*6 = 24  4*7 = 28  4*8 = 32  4*9 = 36  4*10 = 40  4*11 = 44  4*12 = 48  \n",
            "5*1 = 5  5*2 = 10  5*3 = 15  5*4 = 20  5*5 = 25  5*6 = 30  5*7 = 35  5*8 = 40  5*9 = 45  5*10 = 50  5*11 = 55  5*12 = 60  \n",
            "6*1 = 6  6*2 = 12  6*3 = 18  6*4 = 24  6*5 = 30  6*6 = 36  6*7 = 42  6*8 = 48  6*9 = 54  6*10 = 60  6*11 = 66  6*12 = 72  \n",
            "7*1 = 7  7*2 = 14  7*3 = 21  7*4 = 28  7*5 = 35  7*6 = 42  7*7 = 49  7*8 = 56  7*9 = 63  7*10 = 70  7*11 = 77  7*12 = 84  \n",
            "8*1 = 8  8*2 = 16  8*3 = 24  8*4 = 32  8*5 = 40  8*6 = 48  8*7 = 56  8*8 = 64  8*9 = 72  8*10 = 80  8*11 = 88  8*12 = 96  \n",
            "9*1 = 9  9*2 = 18  9*3 = 27  9*4 = 36  9*5 = 45  9*6 = 54  9*7 = 63  9*8 = 72  9*9 = 81  9*10 = 90  9*11 = 99  9*12 = 108  \n",
            "10*1 = 10  10*2 = 20  10*3 = 30  10*4 = 40  10*5 = 50  10*6 = 60  10*7 = 70  10*8 = 80  10*9 = 90  10*10 = 100  10*11 = 110  10*12 = 120  \n",
            "11*1 = 11  11*2 = 22  11*3 = 33  11*4 = 44  11*5 = 55  11*6 = 66  11*7 = 77  11*8 = 88  11*9 = 99  11*10 = 110  11*11 = 121  11*12 = 132  \n",
            "12*1 = 12  12*2 = 24  12*3 = 36  12*4 = 48  12*5 = 60  12*6 = 72  12*7 = 84  12*8 = 96  12*9 = 108  12*10 = 120  12*11 = 132  12*12 = 144  \n"
          ]
        }
      ],
      "source": [
        "def table(n):\n",
        "  for i in range(1, n + 1):\n",
        "      line = \"\"\n",
        "      for j in range(1, n + 1):\n",
        "          multiplication = i * j\n",
        "          line += str(i) + \"*\" + str(j) + \" = \" + str(multiplication) + \"  \"\n",
        "      print(line)\n",
        "\n",
        "\n",
        "table(12)"
      ]
    },
    {
      "cell_type": "markdown",
      "source": [
        "palindrome"
      ],
      "metadata": {
        "id": "ot78vCkLagtr"
      }
    },
    {
      "cell_type": "code",
      "source": [
        "def is_palindrome(s):\n",
        "    return s == s[::-1] # check pal t or f\n",
        "\n",
        "def main():\n",
        "    while True:\n",
        "        userInput = input(\"Enter a string (or 'q' to exit): \")\n",
        "        if userInput.lower() == 'q':\n",
        "            break # Exit\n",
        "        if is_palindrome(userInput):\n",
        "            print(f\"The string '{userInput}' is a palindrome.\")\n",
        "        else:\n",
        "            print(f\"The string '{userInput}' is not a palindrome.\")\n",
        "main()"
      ],
      "metadata": {
        "id": "nvCcUZ2laVQE",
        "colab": {
          "base_uri": "https://localhost:8080/"
        },
        "outputId": "44e59c27-505f-41a7-8c6c-e4527678df00"
      },
      "execution_count": 3,
      "outputs": [
        {
          "name": "stdout",
          "output_type": "stream",
          "text": [
            "Enter a string (or 'q' to exit): aabaa\n",
            "The string 'aabaa' is a palindrome.\n",
            "Enter a string (or 'q' to exit): ccda\n",
            "The string 'ccda' is not a palindrome.\n",
            "Enter a string (or 'q' to exit): q\n"
          ]
        }
      ]
    },
    {
      "cell_type": "markdown",
      "source": [
        "user to input two lists of equal length in the format"
      ],
      "metadata": {
        "id": "WnNMviKmadi6"
      }
    },
    {
      "cell_type": "code",
      "source": [
        "def c_list(list1, list2):\n",
        "    if len(list1) != len(list2): #check 2 list =\n",
        "        return \"not equal length\"\n",
        "    c_list = [] # empty, store the combined\n",
        "    for i in range(len(list1)):\n",
        "        #work on combine\n",
        "        c_list.extend([list1[i], list2[i]])\n",
        "    return c_list\n",
        "\n",
        "def main():\n",
        "        # ask for input\n",
        "        list1_input = input(\"list 1:Enter ANY length list elements(a-z, A-Z): \")\n",
        "        list2_input = input(\"list 2:Enter ANY length list elements(NUMBER): \")\n",
        "\n",
        "        # split list1 only a-z and A-Z)\n",
        "        list1 = list1_input.split(',')\n",
        "        if not all(item.strip().isalpha() for item in list1):\n",
        "            print(\"Error: list 1 only letters.\")\n",
        "            return\n",
        "\n",
        "        # split list2 only numbers\n",
        "        list2 = list2_input.split(',')\n",
        "        try:\n",
        "            list2 = [int(item.strip()) for item in list2]\n",
        "        except ValueError:\n",
        "            print(\"Error: list 2 only numbers.\")\n",
        "            return\n",
        "\n",
        "        # combine\n",
        "        result = c_list(list1, list2)\n",
        "        if isinstance(result, list):\n",
        "            print(\"Combined list:\", result)\n",
        "        else:\n",
        "            print(result)\n",
        "\n",
        "main()\n"
      ],
      "metadata": {
        "id": "JpsPaDYxad2A",
        "colab": {
          "base_uri": "https://localhost:8080/"
        },
        "outputId": "e8958925-62b1-4039-85ed-7af16f52e479"
      },
      "execution_count": 7,
      "outputs": [
        {
          "output_type": "stream",
          "name": "stdout",
          "text": [
            "list 1:Enter ANY length list elements(a-z, A-Z): AAA\n",
            "list 2:Enter ANY length list elements(NUMBER): AAA\n",
            "Error: list 2 only numbers.\n"
          ]
        }
      ]
    },
    {
      "cell_type": "markdown",
      "source": [
        "Fibonacci"
      ],
      "metadata": {
        "id": "D2UW5csFabZJ"
      }
    },
    {
      "cell_type": "code",
      "source": [
        "def fibonacci(n):\n",
        "    # first two fib number\n",
        "    fibNum = [1, 1]\n",
        "    while len(fibNum) < n:\n",
        "        #add last 2 fibNum\n",
        "        fibNum.append(fibNum[-1] + fibNum[-2])\n",
        "    return fibNum\n",
        "\n",
        "fibonacci_100 = fibonacci(100) # first 100\n",
        "\n",
        "for number in fibonacci_100:\n",
        "    print(number)"
      ],
      "metadata": {
        "id": "I-oLnUC6aYVE",
        "colab": {
          "base_uri": "https://localhost:8080/"
        },
        "outputId": "fa5a27bf-6903-4c6f-bd90-78f399658889"
      },
      "execution_count": 8,
      "outputs": [
        {
          "output_type": "stream",
          "name": "stdout",
          "text": [
            "1\n",
            "1\n",
            "2\n",
            "3\n",
            "5\n",
            "8\n",
            "13\n",
            "21\n",
            "34\n",
            "55\n",
            "89\n",
            "144\n",
            "233\n",
            "377\n",
            "610\n",
            "987\n",
            "1597\n",
            "2584\n",
            "4181\n",
            "6765\n",
            "10946\n",
            "17711\n",
            "28657\n",
            "46368\n",
            "75025\n",
            "121393\n",
            "196418\n",
            "317811\n",
            "514229\n",
            "832040\n",
            "1346269\n",
            "2178309\n",
            "3524578\n",
            "5702887\n",
            "9227465\n",
            "14930352\n",
            "24157817\n",
            "39088169\n",
            "63245986\n",
            "102334155\n",
            "165580141\n",
            "267914296\n",
            "433494437\n",
            "701408733\n",
            "1134903170\n",
            "1836311903\n",
            "2971215073\n",
            "4807526976\n",
            "7778742049\n",
            "12586269025\n",
            "20365011074\n",
            "32951280099\n",
            "53316291173\n",
            "86267571272\n",
            "139583862445\n",
            "225851433717\n",
            "365435296162\n",
            "591286729879\n",
            "956722026041\n",
            "1548008755920\n",
            "2504730781961\n",
            "4052739537881\n",
            "6557470319842\n",
            "10610209857723\n",
            "17167680177565\n",
            "27777890035288\n",
            "44945570212853\n",
            "72723460248141\n",
            "117669030460994\n",
            "190392490709135\n",
            "308061521170129\n",
            "498454011879264\n",
            "806515533049393\n",
            "1304969544928657\n",
            "2111485077978050\n",
            "3416454622906707\n",
            "5527939700884757\n",
            "8944394323791464\n",
            "14472334024676221\n",
            "23416728348467685\n",
            "37889062373143906\n",
            "61305790721611591\n",
            "99194853094755497\n",
            "160500643816367088\n",
            "259695496911122585\n",
            "420196140727489673\n",
            "679891637638612258\n",
            "1100087778366101931\n",
            "1779979416004714189\n",
            "2880067194370816120\n",
            "4660046610375530309\n",
            "7540113804746346429\n",
            "12200160415121876738\n",
            "19740274219868223167\n",
            "31940434634990099905\n",
            "51680708854858323072\n",
            "83621143489848422977\n",
            "135301852344706746049\n",
            "218922995834555169026\n",
            "354224848179261915075\n"
          ]
        }
      ]
    },
    {
      "cell_type": "markdown",
      "source": [
        "leap year"
      ],
      "metadata": {
        "id": "j66Sr8XWaZUk"
      }
    },
    {
      "cell_type": "code",
      "source": [
        "def leap_year(year):\n",
        "    # check if leap, normal year can be divide by 4, a century can be divide by 400\n",
        "    return (year % 4 == 0 and year % 100 != 0) or (year % 400 == 0)\n",
        "\n",
        "def main():\n",
        "    try:\n",
        "        year = int(input(\"Enter a year to check if it's a leap year: \"))\n",
        "        # call func check again\n",
        "        if leap_year(year):\n",
        "            print(f\"{year} is a leap year.\")\n",
        "        else:\n",
        "            print(f\"{year} is not a leap year.\")\n",
        "    # bad input\n",
        "    except ValueError:\n",
        "        print(\"Invalid input. Please enter a valid year.\")\n",
        "main()\n",
        "# test 2000, 2004, 2008, 2023, 2022"
      ],
      "metadata": {
        "id": "m0N6loZFawSB",
        "colab": {
          "base_uri": "https://localhost:8080/"
        },
        "outputId": "514c168e-70ed-4e25-99ad-5f09eef3d928"
      },
      "execution_count": 9,
      "outputs": [
        {
          "output_type": "stream",
          "name": "stdout",
          "text": [
            "Enter a year to check if it's a leap year: 2000\n",
            "2000 is a leap year.\n"
          ]
        }
      ]
    }
  ]
}